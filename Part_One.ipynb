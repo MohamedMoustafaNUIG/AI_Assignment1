{
 "cells": [
  {
   "cell_type": "markdown",
   "metadata": {},
   "source": [
    "# Part A"
   ]
  },
  {
   "cell_type": "code",
   "execution_count": 1,
   "metadata": {},
   "outputs": [],
   "source": [
    "# Import Dependencies\n",
    "import pandas as pd\n",
    "import matplotlib.pyplot as plt\n",
    "\n",
    "import numpy as np\n",
    "from numpy.random import randint, rand"
   ]
  },
  {
   "cell_type": "markdown",
   "metadata": {},
   "source": [
    "# Overall Functions"
   ]
  },
  {
   "cell_type": "code",
   "execution_count": 2,
   "metadata": {},
   "outputs": [],
   "source": [
    "def selection(pop, scores, k=3):\n",
    "    \"\"\"\n",
    "    Tournament selection\n",
    "    Randomly select a solution from the population\n",
    "    Compare it to k-1 other solutions and choose the one with the highest fitness\n",
    "\n",
    "    :param pop: list of lists\n",
    "    :param scores: list\n",
    "    :param k: int\n",
    "    :return: list\n",
    "    \"\"\"\n",
    "    \n",
    "    # randomly select candidate\n",
    "    selection_idx = randint(len(pop))\n",
    "    \n",
    "    # compare to k-1 random candidates\n",
    "    for idx in randint(0, len(pop), k-1):\n",
    "        # check if better (e.g. perform a tournament)\n",
    "        if scores[idx] > scores[selection_idx]:\n",
    "            selection_idx = idx\n",
    "    return pop[selection_idx]"
   ]
  },
  {
   "cell_type": "code",
   "execution_count": 3,
   "metadata": {},
   "outputs": [],
   "source": [
    "def crossover(p1, p2, r_cross=0.8):\n",
    "    \"\"\"\n",
    "    One point crossover \n",
    "    \n",
    "    :param p1: list\n",
    "    :param p2: list\n",
    "    :param r_cross: float\n",
    "    :return: list of lists\n",
    "    \"\"\"\n",
    "    \n",
    "    # children are copies of parents by default\n",
    "    c1, c2 = p1.copy(), p2.copy()\n",
    "    # check for recombination\n",
    "    if rand() < r_cross:\n",
    "        # generate a random number to use as index for crossover point that is before the end of the string\n",
    "        pt = randint(1, len(p1)-2)\n",
    "        # perform crossover\n",
    "        c1 = p1[:pt] + p2[pt:]\n",
    "        c2 = p2[:pt] + p1[pt:]\n",
    "    return [c1, c2]"
   ]
  },
  {
   "cell_type": "code",
   "execution_count": 4,
   "metadata": {},
   "outputs": [],
   "source": [
    "def mutation(bitstring, r_mut):\n",
    "    \"\"\"\n",
    "    Mutation operator\n",
    "    \n",
    "    :param bitstring: list\n",
    "    :param r_mut: float\n",
    "    :return: list\n",
    "    \"\"\"\n",
    "    \n",
    "    for i in range(len(bitstring)):\n",
    "        # check for a mutation\n",
    "        if rand() < r_mut:\n",
    "            # flip the bit\n",
    "            bitstring[i] = 1 - bitstring[i]\n",
    "    return bitstring"
   ]
  },
  {
   "cell_type": "code",
   "execution_count": 5,
   "metadata": {},
   "outputs": [],
   "source": [
    "def genetic_algorithm(objective, n_bits, n_gen, n_pop, r_cross, r_mut):\n",
    "    \"\"\"\n",
    "    Genetic Algorithm\n",
    "    \n",
    "    :param objective: function\n",
    "    :param n_bits: int\n",
    "    :param n_gen: int\n",
    "    :param n_pop: int\n",
    "    :param r_cross: float\n",
    "    :param r_mut: float\n",
    "    :return: list [best solution, fitness, average fitness per generation, maximum fitnes per generation]\n",
    "    \"\"\"\n",
    "    \n",
    "    # initial population of random bitstring i.e list, of size n_pop, of lists, of size n_bits\n",
    "    pop = [randint(0, 2, n_bits).tolist() for _ in range(n_pop)]\n",
    "    # keep track of best solution\n",
    "    best, best_eval = 0, objective(pop[0])\n",
    "    \n",
    "    #create lists to graph average fitness\n",
    "    avg_per_gen = []\n",
    "    maxs = []\n",
    "    \n",
    "    # iterate over n_gen generations\n",
    "    for gen in range(n_gen):\n",
    "        # evaluate all candidates in the population\n",
    "        scores = [objective(c) for c in pop]\n",
    "        # append average fitness\n",
    "        avg_per_gen.append(np.sum(scores)*1.0/n_pop)\n",
    "        maxs.append(np.max(scores))\n",
    "        # check for new best solution\n",
    "        for i in range(n_pop):\n",
    "            if scores[i] > best_eval:\n",
    "                best, best_eval = pop[i], scores[i]\n",
    "                print(\">%d, new best f(%s) = %.3f\" % (gen,  pop[i], scores[i]))\n",
    "        # select parents\n",
    "        selected = [selection(pop, scores) for _ in range(n_pop)]\n",
    "        # create the next generation\n",
    "        children = list()\n",
    "        for i in range(0, n_pop, 2):\n",
    "            # get selected parents in pairs\n",
    "            p1, p2 = selected[i], selected[i+1]\n",
    "            # crossover and mutation\n",
    "            for c in crossover(p1, p2, r_cross):\n",
    "                # mutation\n",
    "                c = mutation(c, r_mut)\n",
    "                # store for next generation\n",
    "                children.append(c)\n",
    "        # replace population\n",
    "        pop = children\n",
    "    #print(pop[:20])\n",
    "    return [best, best_eval, avg_per_gen, maxs]"
   ]
  },
  {
   "cell_type": "code",
   "execution_count": 6,
   "metadata": {},
   "outputs": [],
   "source": [
    "def plot_progression(data):\n",
    "    \"\"\"\n",
    "    Plot Data\n",
    "    \n",
    "    :param data: list[number of generations, average fitness per generation, maximum fitnes per generation]\n",
    "    \"\"\"\n",
    "    plt.plot(list(range(data[0])), data[1], label='Mean Fitness')\n",
    "    plt.plot(list(range(data[0])), data[2], label='Max Fitness')\n",
    "    plt.legend()\n",
    "    plt.title('Fitness Results')\n",
    "    plt.xlabel('Generations')\n",
    "    plt.ylabel('Fitness')\n",
    "    plt.show()"
   ]
  },
  {
   "cell_type": "code",
   "execution_count": 7,
   "metadata": {},
   "outputs": [],
   "source": [
    "N_BITS = 20\n",
    "N_GEN = 200\n",
    "N_POP = 100\n",
    "R_CROSS =0.8\n",
    "R_MUT = 0.01"
   ]
  },
  {
   "cell_type": "markdown",
   "metadata": {},
   "source": [
    "# I"
   ]
  },
  {
   "cell_type": "code",
   "execution_count": 8,
   "metadata": {},
   "outputs": [],
   "source": [
    "def objective(s):\n",
    "    \"\"\"\n",
    "    Objective Function\n",
    "    \n",
    "    :param s: list\n",
    "    :return: int\n",
    "    \"\"\"\n",
    "    return np.sum(s)"
   ]
  },
  {
   "cell_type": "code",
   "execution_count": 9,
   "metadata": {},
   "outputs": [
    {
     "name": "stdout",
     "output_type": "stream",
     "text": [
      ">0, new best f([1, 0, 1, 1, 0, 1, 1, 0, 1, 1, 1, 0, 1, 1, 1, 0, 0, 1, 1, 0]) = 13.000\n",
      ">0, new best f([1, 1, 1, 1, 1, 1, 0, 1, 1, 0, 1, 0, 1, 0, 0, 0, 1, 1, 1, 1]) = 14.000\n",
      ">0, new best f([0, 0, 1, 1, 1, 1, 1, 1, 1, 1, 0, 1, 0, 1, 1, 0, 1, 1, 1, 1]) = 15.000\n",
      ">0, new best f([1, 1, 0, 1, 1, 0, 1, 1, 1, 1, 1, 1, 1, 1, 1, 0, 0, 1, 1, 1]) = 16.000\n",
      ">3, new best f([1, 1, 0, 1, 0, 1, 1, 1, 1, 1, 1, 1, 1, 1, 1, 1, 1, 1, 0, 1]) = 17.000\n",
      ">3, new best f([1, 0, 0, 1, 1, 1, 1, 1, 1, 1, 1, 1, 1, 1, 1, 1, 1, 1, 1, 1]) = 18.000\n",
      ">4, new best f([1, 1, 0, 1, 1, 1, 1, 1, 1, 1, 1, 1, 1, 1, 1, 1, 1, 1, 1, 1]) = 19.000\n",
      ">6, new best f([1, 1, 1, 1, 1, 1, 1, 1, 1, 1, 1, 1, 1, 1, 1, 1, 1, 1, 1, 1]) = 20.000\n"
     ]
    }
   ],
   "source": [
    "b, b_e, avgs, maxs = genetic_algorithm(objective, N_BITS, N_GEN, N_POP, R_CROSS, R_MUT)"
   ]
  },
  {
   "cell_type": "code",
   "execution_count": 10,
   "metadata": {},
   "outputs": [
    {
     "data": {
      "image/png": "[encoded data removed]",
      "text/plain": [
       "<Figure size 432x288 with 1 Axes>"
      ]
     },
     "metadata": {
      "needs_background": "light"
     },
     "output_type": "display_data"
    }
   ],
   "source": [
    "plot_progression([N_GEN, avgs, maxs])"
   ]
  },
  {
   "cell_type": "markdown",
   "metadata": {},
   "source": [
    "# II"
   ]
  },
  {
   "cell_type": "code",
   "execution_count": 11,
   "metadata": {},
   "outputs": [],
   "source": [
    "GOAL = [1, 0, 1, 0, 1, 0, 1, 0, 1, 0, 1, 0, 1, 0, 1, 0, 1, 0, 1, 0]"
   ]
  },
  {
   "cell_type": "code",
   "execution_count": 12,
   "metadata": {},
   "outputs": [],
   "source": [
    "def objective(s):\n",
    "    \"\"\"\n",
    "    Objective Function\n",
    "    \n",
    "    :param s: list\n",
    "    :return: int\n",
    "    \"\"\"\n",
    "    count = 0\n",
    "    for i in range(len(s)):\n",
    "        if s[i] == GOAL[i]:\n",
    "            count+=1\n",
    "    return count"
   ]
  },
  {
   "cell_type": "code",
   "execution_count": 13,
   "metadata": {},
   "outputs": [
    {
     "name": "stdout",
     "output_type": "stream",
     "text": [
      ">0, new best f([0, 0, 0, 1, 1, 1, 1, 1, 1, 0, 1, 1, 1, 0, 1, 1, 1, 1, 1, 1]) = 11.000\n",
      ">0, new best f([0, 0, 1, 0, 0, 1, 1, 1, 0, 0, 1, 1, 1, 0, 1, 1, 0, 0, 1, 0]) = 12.000\n",
      ">0, new best f([1, 0, 1, 0, 1, 1, 1, 0, 0, 0, 1, 1, 1, 0, 0, 1, 1, 0, 1, 1]) = 14.000\n",
      ">0, new best f([1, 0, 1, 0, 1, 1, 1, 0, 1, 0, 0, 0, 1, 1, 1, 0, 1, 0, 0, 1]) = 15.000\n",
      ">1, new best f([0, 0, 1, 0, 1, 1, 1, 0, 0, 0, 1, 0, 0, 0, 1, 0, 1, 0, 1, 0]) = 16.000\n",
      ">2, new best f([1, 0, 1, 0, 1, 0, 1, 1, 1, 0, 0, 0, 1, 0, 1, 0, 1, 0, 1, 0]) = 18.000\n",
      ">5, new best f([1, 0, 1, 0, 1, 0, 1, 1, 1, 0, 1, 0, 1, 0, 1, 0, 1, 0, 1, 0]) = 19.000\n",
      ">7, new best f([1, 0, 1, 0, 1, 0, 1, 0, 1, 0, 1, 0, 1, 0, 1, 0, 1, 0, 1, 0]) = 20.000\n"
     ]
    }
   ],
   "source": [
    "b, b_e, avgs, maxs = genetic_algorithm(objective, N_BITS, N_GEN, N_POP, R_CROSS, R_MUT)"
   ]
  },
  {
   "cell_type": "code",
   "execution_count": 14,
   "metadata": {},
   "outputs": [
    {
     "data": {
      "image/png": "[encoded data removed]",
      "text/plain": [
       "<Figure size 432x288 with 1 Axes>"
      ]
     },
     "metadata": {
      "needs_background": "light"
     },
     "output_type": "display_data"
    }
   ],
   "source": [
    "plot_progression([N_GEN, avgs, maxs])"
   ]
  },
  {
   "cell_type": "markdown",
   "metadata": {},
   "source": [
    "# III"
   ]
  },
  {
   "cell_type": "code",
   "execution_count": 15,
   "metadata": {},
   "outputs": [],
   "source": [
    "def objective(s):\n",
    "    \"\"\"\n",
    "    Objective Function\n",
    "    \n",
    "    :param s: list\n",
    "    :return: int\n",
    "    \"\"\"\n",
    "    return 2*len(s) if np.sum(s)==0 else np.sum(s)"
   ]
  },
  {
   "cell_type": "code",
   "execution_count": 16,
   "metadata": {},
   "outputs": [
    {
     "name": "stdout",
     "output_type": "stream",
     "text": [
      ">0, new best f([1, 1, 1, 0, 1, 1, 1, 1, 0, 1, 1, 1, 0, 0, 1, 1, 0, 0, 1, 1]) = 14.000\n",
      ">0, new best f([1, 1, 0, 0, 1, 1, 1, 1, 1, 1, 0, 1, 1, 0, 1, 1, 1, 1, 0, 1]) = 15.000\n",
      ">0, new best f([0, 1, 1, 1, 1, 1, 1, 1, 1, 1, 1, 1, 1, 1, 1, 0, 1, 1, 0, 1]) = 17.000\n",
      ">4, new best f([0, 1, 1, 1, 1, 1, 1, 1, 1, 1, 1, 1, 1, 1, 1, 1, 1, 0, 1, 1]) = 18.000\n",
      ">5, new best f([0, 1, 1, 1, 1, 1, 1, 1, 1, 1, 1, 1, 1, 1, 1, 1, 1, 1, 1, 1]) = 19.000\n",
      ">6, new best f([1, 1, 1, 1, 1, 1, 1, 1, 1, 1, 1, 1, 1, 1, 1, 1, 1, 1, 1, 1]) = 20.000\n"
     ]
    }
   ],
   "source": [
    "b, b_e, avgs, maxs = genetic_algorithm(objective, N_BITS, N_GEN, N_POP, R_CROSS, R_MUT)"
   ]
  },
  {
   "cell_type": "code",
   "execution_count": 17,
   "metadata": {},
   "outputs": [
    {
     "data": {
      "image/png": "[encoded data removed]",
      "text/plain": [
       "<Figure size 432x288 with 1 Axes>"
      ]
     },
     "metadata": {
      "needs_background": "light"
     },
     "output_type": "display_data"
    }
   ],
   "source": [
    "plot_progression([N_GEN, avgs, maxs])"
   ]
  },
  {
   "cell_type": "code",
   "execution_count": null,
   "metadata": {},
   "outputs": [],
   "source": []
  }
 ],
 "metadata": {
  "kernelspec": {
   "display_name": "Python 3",
   "language": "python",
   "name": "python3"
  },
  "language_info": {
   "codemirror_mode": {
    "name": "ipython",
    "version": 3
   },
   "file_extension": ".py",
   "mimetype": "text/x-python",
   "name": "python",
   "nbconvert_exporter": "python",
   "pygments_lexer": "ipython3",
   "version": "3.7.9"
  }
 },
 "nbformat": 4,
 "nbformat_minor": 4
}
